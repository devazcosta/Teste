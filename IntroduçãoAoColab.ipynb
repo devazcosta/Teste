{
  "nbformat": 4,
  "nbformat_minor": 0,
  "metadata": {
    "colab": {
      "provenance": [],
      "toc_visible": true,
      "authorship_tag": "ABX9TyPxC1H0+gLqLNKhuOkW8IlK",
      "include_colab_link": true
    },
    "kernelspec": {
      "name": "python3",
      "display_name": "Python 3"
    },
    "language_info": {
      "name": "python"
    }
  },
  "cells": [
    {
      "cell_type": "markdown",
      "metadata": {
        "id": "view-in-github",
        "colab_type": "text"
      },
      "source": [
        "<a href=\"https://colab.research.google.com/github/devazcosta/Teste/blob/main/Introdu%C3%A7%C3%A3oAoColab.ipynb\" target=\"_parent\"><img src=\"https://colab.research.google.com/assets/colab-badge.svg\" alt=\"Open In Colab\"/></a>"
      ]
    },
    {
      "cell_type": "markdown",
      "source": [
        "# Esse é meu primeiro exemplo em Python\n",
        "Um programa bem básico só para testarmos."
      ],
      "metadata": {
        "id": "LqXjOJK4x8Xe"
      }
    },
    {
      "cell_type": "code",
      "execution_count": null,
      "metadata": {
        "id": "rLpqB8zHxi_u"
      },
      "outputs": [],
      "source": [
        "print('Primeiro Exemplo')"
      ]
    },
    {
      "cell_type": "markdown",
      "source": [
        "# Variáveis e Tipos de Dados"
      ],
      "metadata": {
        "id": "qgRDim6DyKRr"
      }
    },
    {
      "cell_type": "code",
      "source": [
        "print(42, type(42))\n",
        "print(42.5, type(42.5))\n",
        "print(\"Débora\", type(\"Débora\"))\n",
        "print('D', type('D'))\n",
        "print(True, type(True))\n",
        "print(False, type(False))"
      ],
      "metadata": {
        "id": "FAv5bgrVyROa"
      },
      "execution_count": null,
      "outputs": []
    },
    {
      "cell_type": "code",
      "source": [
        "a = 42.5\n",
        "print(a, type(a))\n",
        "a = 21\n",
        "print(a, type(a))\n",
        "# Observe que não é necessário definir previamente o tipo de variável, \n",
        "# diferentemente do que ocorre em outras linguagens, como C, C++ etc."
      ],
      "metadata": {
        "colab": {
          "base_uri": "https://localhost:8080/"
        },
        "id": "wXxf9h2Qz3Tv",
        "outputId": "27c43ed5-71de-494b-e1ca-e9c3367e5478"
      },
      "execution_count": 5,
      "outputs": [
        {
          "output_type": "stream",
          "name": "stdout",
          "text": [
            "42.5 <class 'float'>\n",
            "21 <class 'int'>\n",
            "1\n"
          ]
        }
      ]
    },
    {
      "cell_type": "markdown",
      "source": [
        "## Operadores e expressões\n",
        "Eis aqui os principais operadores matemáticos usados em Python, seus símbolos e alguns exemplos elementares.\n",
        "\n",
        "\n",
        "\n",
        "| Operação | Operador | Exemplo | Resultado\n",
        "| :- | :- | :- | :-\n",
        "| Soma | `+` | `9+3` | `12` |\n",
        "| Subtração | `-` | `9-3` | `6` |\n",
        "| Multiplicação | `*` | `9*3` | `27` |\n",
        "| Divisão | `/` | `9/3` | `3` |\n",
        "| Exponenciação | `**` | `9**3` | `729` |\n",
        "| Módulo | `%`| `9%4` | `1` |\n",
        "\n",
        "Obs: Módulo aqui é o famoso \"resto da divisão\" que a gente aprende na escola.\n",
        "\n"
      ],
      "metadata": {
        "id": "50fwql6326Ub"
      }
    },
    {
      "cell_type": "markdown",
      "source": [
        "## Trabalhando com Listas"
      ],
      "metadata": {
        "id": "2Y9iAnkk_wAw"
      }
    },
    {
      "cell_type": "code",
      "source": [
        "a = [1,2,3]\n",
        "b = [10,20,30]\n",
        "\n",
        "for i, elemento in enumerate(a+b):\n",
        "  print(i, '-----', elemento)"
      ],
      "metadata": {
        "id": "TmAvVbEZ_3PU"
      },
      "execution_count": null,
      "outputs": []
    },
    {
      "cell_type": "markdown",
      "source": [
        "##Trabalhando com Tuplas"
      ],
      "metadata": {
        "id": "DBjYe7FcETAG"
      }
    },
    {
      "cell_type": "markdown",
      "source": [
        "O diferencial das tuplas em relação às listas é o fato de aquelas serem expressas entre parênteses, e não entre colchetes. Mas não é só isso. Tuplas, diferentemente de listas, não podem ter seus valores modificados ao longo da execução do código."
      ],
      "metadata": {
        "id": "4ZvyM_6kEgK1"
      }
    }
  ]
}